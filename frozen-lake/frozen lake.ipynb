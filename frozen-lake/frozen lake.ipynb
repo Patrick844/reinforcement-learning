{
 "cells": [
  {
   "cell_type": "markdown",
   "id": "92b1c565",
   "metadata": {},
   "source": [
    "## Imports and enviroment set up"
   ]
  },
  {
   "cell_type": "code",
   "execution_count": 1,
   "id": "93733d0b",
   "metadata": {},
   "outputs": [],
   "source": [
    "import time\n",
    "import numpy as np\n",
    "import gym\n",
    "import random\n",
    "import pygame\n",
    "from IPython.display import clear_output"
   ]
  },
  {
   "cell_type": "code",
   "execution_count": 2,
   "id": "651ee4d7",
   "metadata": {},
   "outputs": [],
   "source": [
    "env = gym.make(\"FrozenLake-v1\")"
   ]
  },
  {
   "cell_type": "markdown",
   "id": "660fdc21",
   "metadata": {},
   "source": [
    "## Initializing Q-Table"
   ]
  },
  {
   "cell_type": "code",
   "execution_count": 3,
   "id": "9451954f",
   "metadata": {},
   "outputs": [
    {
     "data": {
      "text/plain": [
       "array([[0., 0., 0., 0.],\n",
       "       [0., 0., 0., 0.],\n",
       "       [0., 0., 0., 0.],\n",
       "       [0., 0., 0., 0.],\n",
       "       [0., 0., 0., 0.],\n",
       "       [0., 0., 0., 0.],\n",
       "       [0., 0., 0., 0.],\n",
       "       [0., 0., 0., 0.],\n",
       "       [0., 0., 0., 0.],\n",
       "       [0., 0., 0., 0.],\n",
       "       [0., 0., 0., 0.],\n",
       "       [0., 0., 0., 0.],\n",
       "       [0., 0., 0., 0.],\n",
       "       [0., 0., 0., 0.],\n",
       "       [0., 0., 0., 0.],\n",
       "       [0., 0., 0., 0.]])"
      ]
     },
     "execution_count": 3,
     "metadata": {},
     "output_type": "execute_result"
    }
   ],
   "source": [
    "# Initialize Q-table\n",
    "action_space_size = env.action_space.n\n",
    "state_space_size = env.observation_space.n\n",
    "\n",
    "q_table=np.zeros((state_space_size,action_space_size))\n",
    "q_table"
   ]
  },
  {
   "cell_type": "markdown",
   "id": "4485f7ea",
   "metadata": {},
   "source": [
    "## Initializing parameters "
   ]
  },
  {
   "cell_type": "code",
   "execution_count": 4,
   "id": "971f2b91",
   "metadata": {},
   "outputs": [],
   "source": [
    "# Episodes param\n",
    "nbr_episdoes = 10000\n",
    "max_steps_per_ep = 100\n",
    "\n",
    "# Learning rate and discount rate\n",
    "learning_rate = 0.1\n",
    "discount_rate = 0.99\n",
    "\n",
    "# Epsilon and  exploration params\n",
    "explo_rate = 1\n",
    "max_explo_rate = 1\n",
    "min_explo_rate = 0.01\n",
    "explo_decay_rate = 0.001"
   ]
  },
  {
   "cell_type": "markdown",
   "id": "19b62846",
   "metadata": {},
   "source": [
    "## Epsilon Greedy Algorithm"
   ]
  },
  {
   "cell_type": "code",
   "execution_count": 5,
   "id": "592d673b",
   "metadata": {},
   "outputs": [],
   "source": [
    "reward_all_ep = []\n",
    "for episode in range(nbr_episdoes): # What happens in one episode\n",
    "    \n",
    "    state = env.reset() # reset state\n",
    "    done = False # Check if episdoe finished (Got to G or fall)\n",
    "    reward_current_episode = 0 # Reward of current episode\n",
    "    \n",
    "    for step in range(max_steps_per_ep): # What happen during each step of episode\n",
    "        \n",
    "        exploration_rate_thresh = random.uniform(0,1) # random threshold from 0 to 1\n",
    "        \n",
    "        if exploration_rate_thresh > explo_rate: # If threshold < exploration rate we exploit\n",
    "            action = np.argmax(q_table[state,:])\n",
    "        else: # Else we explore\n",
    "            action = env.action_space.sample()\n",
    "                    \n",
    "        new_state, reward, done, info = env.step(action) # Update state, reward, done\n",
    "        \n",
    "        # Update q_table for (state, action) pair\n",
    "        q_table[state,action] = (1-learning_rate)*q_table[state,action] + learning_rate*(reward + \\\n",
    "                                                                           discount_rate*np.max(q_table[new_state, : ]))\n",
    "        # Update state and reward for episode\n",
    "        state = new_state\n",
    "        reward_current_episode+=reward\n",
    "        \n",
    "        if done == True:\n",
    "            break\n",
    "            \n",
    "    # Append reward after each episode\n",
    "    reward_all_ep.append(reward_current_episode)\n",
    "    \n",
    "    # Modify exploration decay => exploration, explotation trade-off\n",
    "    explo_rate = min_explo_rate + (max_explo_rate-min_explo_rate)*np.exp(-explo_decay_rate*episode)\n",
    "    \n",
    "    "
   ]
  },
  {
   "cell_type": "markdown",
   "id": "397c8577",
   "metadata": {},
   "source": [
    "## Print reward / 1000 of episode"
   ]
  },
  {
   "cell_type": "code",
   "execution_count": 6,
   "id": "37b0b024",
   "metadata": {},
   "outputs": [
    {
     "name": "stdout",
     "output_type": "stream",
     "text": [
      "***** Avg Reward *****\n",
      "\n",
      "1000  :  0.04000000000000003\n",
      "2000  :  0.19700000000000015\n",
      "3000  :  0.4200000000000003\n",
      "4000  :  0.6040000000000004\n",
      "5000  :  0.6060000000000004\n",
      "6000  :  0.6580000000000005\n",
      "7000  :  0.7100000000000005\n",
      "8000  :  0.7030000000000005\n",
      "9000  :  0.6380000000000005\n",
      "10000  :  0.6980000000000005\n",
      "\n",
      "***** Q-Table *****\n",
      "\n",
      "[[0.55926814 0.50790806 0.51979522 0.5117063 ]\n",
      " [0.3443446  0.34892395 0.20102642 0.50300599]\n",
      " [0.41252651 0.4119806  0.39861745 0.46507587]\n",
      " [0.26589432 0.22689194 0.23053896 0.45064583]\n",
      " [0.57849991 0.39250938 0.46584799 0.35970723]\n",
      " [0.         0.         0.         0.        ]\n",
      " [0.20566265 0.14992995 0.40446188 0.15257737]\n",
      " [0.         0.         0.         0.        ]\n",
      " [0.43600873 0.36893373 0.47107293 0.6166963 ]\n",
      " [0.47091761 0.66986049 0.42097783 0.43748201]\n",
      " [0.71761458 0.38174585 0.3655922  0.35315819]\n",
      " [0.         0.         0.         0.        ]\n",
      " [0.         0.         0.         0.        ]\n",
      " [0.48944075 0.46647762 0.74887869 0.53402452]\n",
      " [0.72570087 0.90829121 0.75339191 0.72922349]\n",
      " [0.         0.         0.         0.        ]]\n"
     ]
    }
   ],
   "source": [
    "reward_per_thousand_ep = np.split(np.array(reward_all_ep),nbr_episdoes / 1000)\n",
    "\n",
    "count = 1000\n",
    "\n",
    "print(\"***** Avg Reward *****\")\n",
    "print(\"\")\n",
    "\n",
    "for r in reward_per_thousand_ep:\n",
    "    print(count, \" : \", str(sum(r/1000)))\n",
    "    count += 1000\n",
    "    \n",
    "print(\"\")\n",
    "print(\"***** Q-Table *****\")\n",
    "print(\"\")\n",
    "print(q_table)"
   ]
  },
  {
   "cell_type": "markdown",
   "id": "2edb4ed8",
   "metadata": {},
   "source": [
    "## Agent play frozen lake"
   ]
  },
  {
   "cell_type": "code",
   "execution_count": 7,
   "id": "abef6a50",
   "metadata": {},
   "outputs": [
    {
     "name": "stdout",
     "output_type": "stream",
     "text": [
      "***** Better Luck Next Time *****\n"
     ]
    }
   ],
   "source": [
    "for episode in range(3):\n",
    "    env = gym.make(\"FrozenLake-v1\")\n",
    "    state = env.reset()\n",
    "    done = False\n",
    "    \n",
    "    \n",
    "    print(\"***** \", episode+1,\" *****\")\n",
    "    time.sleep(1)\n",
    "    \n",
    "    for step in range(max_steps_per_ep):\n",
    "        clear_output(wait=True)\n",
    "        env.render()\n",
    "        action = np.argmax(q_table[state,:])\n",
    "        new_state,reward,done,info = env.step(action)\n",
    "        if done:\n",
    "            clear_output(wait=True)\n",
    "            env.render()\n",
    "            time.sleep(0.3)\n",
    "            if reward == 1:\n",
    "                print( \"***** Congratulation you reached your goal *****\")\n",
    "                time.sleep(3)\n",
    "            else:\n",
    "                print(\"***** GAME OVER *****\")\n",
    "                time.sleep(3)\n",
    "            clear_output(wait=True)\n",
    "            break\n",
    "        state = new_state\n",
    "\n",
    "env.close()\n",
    "pygame.quit()"
   ]
  },
  {
   "cell_type": "code",
   "execution_count": null,
   "id": "ceebabc5",
   "metadata": {},
   "outputs": [],
   "source": []
  }
 ],
 "metadata": {
  "kernelspec": {
   "display_name": "Python 3 (ipykernel)",
   "language": "python",
   "name": "python3"
  },
  "language_info": {
   "codemirror_mode": {
    "name": "ipython",
    "version": 3
   },
   "file_extension": ".py",
   "mimetype": "text/x-python",
   "name": "python",
   "nbconvert_exporter": "python",
   "pygments_lexer": "ipython3",
   "version": "3.10.4"
  }
 },
 "nbformat": 4,
 "nbformat_minor": 5
}
